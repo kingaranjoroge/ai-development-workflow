{
  "nbformat": 4,
  "nbformat_minor": 0,
  "metadata": {
    "colab": {
      "provenance": []
    },
    "kernelspec": {
      "name": "python3",
      "display_name": "Python 3"
    },
    "language_info": {
      "name": "python"
    }
  },
  "cells": [
    {
      "cell_type": "markdown",
      "source": [
        "## Confusion Matrix: Precision and Recall Calculation"
      ],
      "metadata": {
        "id": "2sKeEUZp4AtQ"
      }
    },
    {
      "cell_type": "code",
      "source": [
        "# Confusion matrix values\n",
        "TP = 18  # True Positives\n",
        "FP = 10  # False Positives\n",
        "FN = 7   # False Negatives\n",
        "TN = 65  # True Negatives\n",
        "\n",
        "precision = TP / (TP + FP)\n",
        "recall = TP / (TP + FN)\n",
        "\n",
        "print(f'Precision: {precision:.3f}')\n",
        "print(f'Recall: {recall:.3f}')"
      ],
      "metadata": {
        "colab": {
          "base_uri": "https://localhost:8080/"
        },
        "id": "iKQPQyCT4ET4",
        "outputId": "9d68c11c-b052-461b-8192-2d0ef97ceb9e"
      },
      "execution_count": 1,
      "outputs": [
        {
          "output_type": "stream",
          "name": "stdout",
          "text": [
            "Precision: 0.643\n",
            "Recall: 0.720\n"
          ]
        }
      ]
    },
    {
      "cell_type": "markdown",
      "source": [
        "## Cross-Validation Example (Logistic Regression)"
      ],
      "metadata": {
        "id": "sfTAi7Jl4H4y"
      }
    },
    {
      "cell_type": "code",
      "source": [
        "# Example: 5-fold cross-validation for ROC-AUC using Logistic Regression\n",
        "# Replace X, y with your features and labels\n",
        "from sklearn.linear_model import LogisticRegression\n",
        "from sklearn.model_selection import cross_val_score\n",
        "import numpy as np\n",
        "\n",
        "# X, y = ... # your data here\n",
        "# Add placeholder data for X and y\n",
        "X = np.random.rand(100, 10)  # 100 samples, 10 features\n",
        "y = np.random.randint(0, 2, 100) # 100 binary labels\n",
        "\n",
        "model = LogisticRegression(max_iter=1000)\n",
        "scores = cross_val_score(model, X, y, cv=5, scoring='roc_auc')\n",
        "print(f'Average ROC-AUC (5-fold CV): {np.mean(scores):.3f}')"
      ],
      "metadata": {
        "colab": {
          "base_uri": "https://localhost:8080/"
        },
        "id": "BPcLaxDi4JJG",
        "outputId": "707f49c0-15c2-4cb1-c7e4-bee9a5dccccc"
      },
      "execution_count": 3,
      "outputs": [
        {
          "output_type": "stream",
          "name": "stdout",
          "text": [
            "Average ROC-AUC (5-fold CV): 0.533\n"
          ]
        }
      ]
    }
  ]
}